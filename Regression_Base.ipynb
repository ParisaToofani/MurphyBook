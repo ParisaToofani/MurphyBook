{
 "cells": [
  {
   "attachments": {},
   "cell_type": "markdown",
   "metadata": {},
   "source": [
    "# Data Science and Machine Learning is *interesting* but understanding the background of the is *much more interesting*."
   ]
  },
  {
   "cell_type": "code",
   "execution_count": 5,
   "metadata": {},
   "outputs": [],
   "source": [
    "import numpy as np\n",
    "import scipy as sc\n",
    "import pandas as pd"
   ]
  },
  {
   "attachments": {},
   "cell_type": "markdown",
   "metadata": {},
   "source": [
    "# 1 Linear Regression from Scratch"
   ]
  },
  {
   "attachments": {},
   "cell_type": "markdown",
   "metadata": {},
   "source": [
    "### 1.1. Simple Regression Model\n",
    "The most implementation that is done from scratch are based on the following book.\n",
    "\n",
    "*Grus, J. (2015). Data science from scratch: first principles with Python. First edition. Sebastopol, CA, O'Reilly.*\n",
    "\n",
    "The basic formulation of the linear regression is based on the intercept ($w_0$) and slope ($w_1$).\n",
    "\n",
    "$$y=w_0+w_1$$\n",
    "\n",
    "So, if we know the intercept and the slope, for every new data we can find the value of $y$ (Prediction).\n"
   ]
  },
  {
   "cell_type": "code",
   "execution_count": 6,
   "metadata": {},
   "outputs": [],
   "source": [
    "\"\"\"\n",
    "1. The float in parentheses shows the input type is float.\n",
    "2. -> float: It shows the output is of type float\n",
    "\"\"\"\n",
    "def predict(w0: float, w1:float, x:float) -> float:\n",
    "    return w0+w1*x"
   ]
  },
  {
   "attachments": {},
   "cell_type": "markdown",
   "metadata": {},
   "source": [
    "### 1.2. Multiple Regression\n",
    "\n",
    "Now, you should ask what if we had more variables that define my model?\n",
    "\n",
    "The answer is easy :) Just consider it as a vector and all multiplication that we have become like the element-wise vector multiplication."
   ]
  },
  {
   "attachments": {},
   "cell_type": "markdown",
   "metadata": {},
   "source": [
    "# 2 Advanced Models Using the Regression Method"
   ]
  }
 ],
 "metadata": {
  "kernelspec": {
   "display_name": "MLProject",
   "language": "python",
   "name": "mlproject"
  },
  "language_info": {
   "codemirror_mode": {
    "name": "ipython",
    "version": 3
   },
   "file_extension": ".py",
   "mimetype": "text/x-python",
   "name": "python",
   "nbconvert_exporter": "python",
   "pygments_lexer": "ipython3",
   "version": "3.9.10"
  },
  "orig_nbformat": 4,
  "vscode": {
   "interpreter": {
    "hash": "81794d4967e6c3204c66dcd87b604927b115b27c00565d3d43f05ba2f3a2cb0d"
   }
  }
 },
 "nbformat": 4,
 "nbformat_minor": 2
}
